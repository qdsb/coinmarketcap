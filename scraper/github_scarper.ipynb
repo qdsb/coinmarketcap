{
 "cells": [
  {
   "cell_type": "code",
   "execution_count": 88,
   "metadata": {},
   "outputs": [],
   "source": [
    "import pandas as pd\n",
    "from selenium import webdriver\n",
    "from selenium.webdriver.common.by import By\n",
    "import time"
   ]
  },
  {
   "cell_type": "code",
   "execution_count": 89,
   "metadata": {},
   "outputs": [],
   "source": [
    "data = pd.read_csv('coins.csv')[['Name', 'Symbol', 'GitHub Link']]"
   ]
  },
  {
   "cell_type": "code",
   "execution_count": 90,
   "metadata": {},
   "outputs": [],
   "source": [
    "github_links = data.iloc(1)[2]\n",
    "sympols = data.iloc(1)[1]"
   ]
  },
  {
   "cell_type": "code",
   "execution_count": 91,
   "metadata": {},
   "outputs": [],
   "source": [
    "driver = webdriver.Firefox()\n",
    "driver.maximize_window()"
   ]
  },
  {
   "cell_type": "code",
   "execution_count": 92,
   "metadata": {},
   "outputs": [],
   "source": [
    "coins_rank = list()\n",
    "coins_contributor = list()\n",
    "contributors_count = list()\n",
    "for i in range(0, 5):\n",
    "    contrbs = list()\n",
    "    coins_rank.append(i) \n",
    "    if 'github.com' in github_links[i]:\n",
    "        driver.get(github_links[i])\n",
    "        try:\n",
    "            time.sleep(2)\n",
    "            driver.find_element(By.XPATH, '//*[@id=\"repository-container-header\"]/div[1]/div[1]/div/span[1]/a').click()\n",
    "        except:\n",
    "            pass\n",
    "\n",
    "\n",
    "        time.sleep(2)\n",
    "        try:\n",
    "            count_contrbs = int(driver.find_element(By.XPATH, '/html/body/div[1]/div[4]/main/div/header/div[2]/nav/div/ul/li[5]/a/span').text)\n",
    "        except:\n",
    "            count_contrbs = \"No public countributors\"\n",
    "        contributors_count.append(count_contrbs)\n",
    "        \n",
    "        try:\n",
    "            if \"People\" in driver.find_element(By.XPATH, '/html/body/div[1]/div[4]/main/div/header/div[2]/nav/div/ul/li[5]/a').text:\n",
    "                driver.find_element(By.XPATH, \"/html/body/div[1]/div[4]/main/div/header/div[2]/nav/div/ul/li[5]/a\").click()\n",
    "                time.sleep(2)\n",
    "                contrb_elements = driver.find_elements(By.XPATH, '//*[@class=\"f4 d-block\"]')\n",
    "                for j in contrb_elements:\n",
    "                    contrbs.append(j.get_attribute('href'))\n",
    "            else:\n",
    "                time.sleep(2)\n",
    "                driver.find_element(By.XPATH, \"/html/body/div[1]/div[4]/main/div/header/div[2]/nav/div/ul/li[6]/a\").click() # li[5] changed to li[6]\n",
    "                time.sleep(2)\n",
    "                contrb_elements = driver.find_elements(By.XPATH, '//*[@class=\"f4 d-block\"]')\n",
    "                for j in contrb_elements:\n",
    "                    contrbs.append(j.get_attribute('href'))\n",
    "        except:\n",
    "            pass\n",
    "        \n",
    "    else:\n",
    "        contrbs = ['No GitHub Link']\n",
    "        \n",
    "    coins_contributor.append(contrbs)\n",
    "\n"
   ]
  },
  {
   "cell_type": "code",
   "execution_count": 48,
   "metadata": {},
   "outputs": [],
   "source": [
    "coins_rank = [i + 1 for i in coins_rank]"
   ]
  },
  {
   "cell_type": "code",
   "execution_count": 78,
   "metadata": {},
   "outputs": [],
   "source": [
    "coins_repos = list()\n",
    "coins_lang = list()\n",
    "\n",
    "for i in range(0, 5):\n",
    "    repos = list()\n",
    "    langs = list()\n",
    "    if 'github' in github_links[i]:        \n",
    "        driver.get(github_links[i])\n",
    "        time.sleep(2)\n",
    "        try:\n",
    "            driver.find_element(By.XPATH, '//*[@id=\"repository-container-header\"]/div[1]/div[1]/div/span[1]/a').click()\n",
    "        except:\n",
    "            pass\n",
    "\n",
    "        time.sleep(3)\n",
    "\n",
    "        top_languages = driver.find_elements(By.XPATH, '//span[@itemprop=\"programmingLanguage\"]')\n",
    "        for language in top_languages:\n",
    "            langs.append(language.text)\n",
    "\n",
    "\n",
    "        coins_lang.append(langs)\n",
    "\n",
    "        driver.find_element(By.XPATH, '//*[@id=\"sort-options\"]').click()\n",
    "        driver.find_element(By.XPATH, '//*[@id=\"sort-options\"]/details-menu/div/div/label[3]').click()\n",
    "        driver.find_element(By.XPATH, '//*[@id=\"type-options\"]/summary').click()\n",
    "        driver.find_element(By.XPATH, '//*[@id=\"type-options\"]/details-menu/div/div/label[3]').click()\n",
    "        time.sleep(2)\n",
    "        \n",
    "\n",
    "        time.sleep(2)\n",
    "        repo_rows = driver.find_elements(By.XPATH, \"//*[@class='Box-row']\")\n",
    "        # the following scripts loop through every repository row \n",
    "        for element in repo_rows:\n",
    "\n",
    "            repo_name = element.find_element(By.XPATH, \".//*[@class='Link f4 d-inline-block text-bold mr-1']\").text \n",
    "            repo_url = element.find_element(By.XPATH, \".//*[@class='Link f4 d-inline-block text-bold mr-1']\").get_attribute('href')\n",
    "            try:\n",
    "                repo_detail = element.find_element(By.XPATH, \".//*[@class='color-fg-muted mb-3 wb-break-word']\").text\n",
    "            except:\n",
    "                repo_detail = 'Repository has no detail'\n",
    "\n",
    "            # the followin scripst use unique icones to reach the elements text\n",
    "            try:\n",
    "                licence_icon = element.find_element(By.XPATH, \".//*[@class='octicon octicon-law mr-1']\")\n",
    "                licence = licence_icon.find_element(By.XPATH, '..').text\n",
    "            except:\n",
    "                licence = 'No Licence'\n",
    "\n",
    "            stars_icon = element.find_element(By.XPATH, \".//*[@class='octicon octicon-star mr-1']\")\n",
    "            stars = stars_icon.find_element(By.XPATH, '..').text\n",
    "\n",
    "            forks_icon = element.find_element(By.XPATH, \".//*[@class='octicon octicon-repo-forked mr-1']\")\n",
    "            forks = forks_icon.find_element(By.XPATH, '..').text\n",
    "\n",
    "\n",
    "            repository = [  sympols[i],\n",
    "                            repo_name,\n",
    "                            repo_url,\n",
    "                            repo_detail,\n",
    "                            licence,\n",
    "                            stars,\n",
    "                            forks]\n",
    "                \n",
    "            repos.append(repository)\n",
    "    else:\n",
    "        coins_repos.append([[sympols[i], 'No GitHub Link']])\n",
    "        coins_lang.append('No GitHub Link')\n",
    "\n",
    "    coins_repos.append(repos)\n"
   ]
  },
  {
   "cell_type": "code",
   "execution_count": null,
   "metadata": {},
   "outputs": [],
   "source": [
    "column_names = [\n",
    "    \"Rank\",\n",
    "    \"Counterbutors Count\",\n",
    "    \"Counterbutors Url\"\n",
    "]\n",
    "coins_countributors_df = pd.DataFrame(list(zip(coins_rank, contributors_count, coins_contributor)), columns=column_names)\n",
    "coins_countributors_df\n"
   ]
  },
  {
   "cell_type": "code",
   "execution_count": null,
   "metadata": {},
   "outputs": [],
   "source": [
    "coins_countributors_df.to_csv('../datasets/coins_countributors.csv' , index = False , header = True)"
   ]
  },
  {
   "cell_type": "code",
   "execution_count": null,
   "metadata": {},
   "outputs": [],
   "source": [
    "column_names = [\n",
    "    \"Rank\",\n",
    "    \"Languages\"\n",
    "]\n",
    "coins_lang_df = pd.DataFrame(list(zip(coins_rank, coins_lang)), columns=column_names)\n",
    "coins_lang_df"
   ]
  },
  {
   "cell_type": "code",
   "execution_count": null,
   "metadata": {},
   "outputs": [],
   "source": [
    "coins_lang_df.to_csv('../datasets/coins_language.csv', index = False , header = True)"
   ]
  },
  {
   "cell_type": "code",
   "execution_count": null,
   "metadata": {},
   "outputs": [],
   "source": [
    "flat_data = [repo for sublist in coins_repos for repo in sublist]\n",
    "column_names = [\n",
    "    'Symbol',\n",
    "    'Name',\n",
    "    'Url',\n",
    "    'Detail',\n",
    "    'Licence',\n",
    "    'Stars',\n",
    "    'Forks'\n",
    "]\n",
    "coins_repositories_df = pd.DataFrame(flat_data, columns=column_names)\n",
    "coins_repositories_df"
   ]
  },
  {
   "cell_type": "code",
   "execution_count": null,
   "metadata": {},
   "outputs": [],
   "source": [
    "coins_lang_df.to_csv('../datasets/coins_repositories.csv', index = False , header = True)"
   ]
  }
 ],
 "metadata": {
  "kernelspec": {
   "display_name": "Python 3",
   "language": "python",
   "name": "python3"
  },
  "language_info": {
   "codemirror_mode": {
    "name": "ipython",
    "version": 3
   },
   "file_extension": ".py",
   "mimetype": "text/x-python",
   "name": "python",
   "nbconvert_exporter": "python",
   "pygments_lexer": "ipython3",
   "version": "3.10.5"
  },
  "orig_nbformat": 4
 },
 "nbformat": 4,
 "nbformat_minor": 2
}
