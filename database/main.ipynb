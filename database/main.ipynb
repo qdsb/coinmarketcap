{
 "cells": [
  {
   "cell_type": "markdown",
   "id": "9c3b089c",
   "metadata": {},
   "source": [
    "# Imports"
   ]
  },
  {
   "cell_type": "code",
   "execution_count": 36,
   "id": "7027f9b7-b65a-455b-9994-36815470a4fc",
   "metadata": {},
   "outputs": [
    {
     "data": {
      "text/plain": [
       "True"
      ]
     },
     "execution_count": 36,
     "metadata": {},
     "output_type": "execute_result"
    }
   ],
   "source": [
    "import os\n",
    "from ast import literal_eval\n",
    "import pandas as pd\n",
    "from sqlalchemy import create_engine, MetaData\n",
    "from sqlalchemy import Table, Column, ForeignKey\n",
    "from sqlalchemy import types\n",
    "from sqlalchemy.orm import declarative_base, relationship\n",
    "from dotenv import load_dotenv\n",
    "\n",
    "load_dotenv()"
   ]
  },
  {
   "cell_type": "markdown",
   "id": "ab90009e",
   "metadata": {},
   "source": [
    "# Merging Coins Files"
   ]
  },
  {
   "cell_type": "code",
   "execution_count": 11,
   "id": "b4be405b-bb75-4deb-9e13-693212c126f0",
   "metadata": {},
   "outputs": [],
   "source": [
    "coins_df = pd.read_csv(\"../datasets/coins.csv\")\n",
    "coins_df = coins_df.rename(\n",
    "    columns={\n",
    "        \"Rank\": \"rank\",\n",
    "        \"Name\": \"name\",\n",
    "        \"Symbol\": \"symbol\",\n",
    "        \"Main Link\": \"main_link\",\n",
    "        \"Historical Link\": \"historical_link\",\n",
    "        \"Price\": \"current_price\",\n",
    "        \"Market Cap\": \"current_market_cap\",\n",
    "        \"Volume(24 Hour)\": \"volume_24_hour\",\n",
    "        \"Circulating Supply\": \"circulating_supply\",\n",
    "    }\n",
    ")\n",
    "\n",
    "coins_df[\"id\"] = coins_df[\"rank\"]\n",
    "coins_cols = coins_df.columns.tolist()\n",
    "coins_cols = coins_cols[-1:] + coins_cols[:-1]\n",
    "coins_df = coins_df[coins_cols]\n",
    "\n",
    "github_col = coins_df[\"GitHub Link\"]\n",
    "tags_col = coins_df[\"Tags\"]\n",
    "coins_df = coins_df.drop(columns=[\"GitHub Link\", \"Tags\"])\n",
    "\n",
    "coins_df.to_csv(\"datasets/coins\", index=False)"
   ]
  },
  {
   "cell_type": "code",
   "execution_count": 10,
   "id": "3df095ed",
   "metadata": {},
   "outputs": [
    {
     "data": {
      "text/html": [
       "<div>\n",
       "<style scoped>\n",
       "    .dataframe tbody tr th:only-of-type {\n",
       "        vertical-align: middle;\n",
       "    }\n",
       "\n",
       "    .dataframe tbody tr th {\n",
       "        vertical-align: top;\n",
       "    }\n",
       "\n",
       "    .dataframe thead th {\n",
       "        text-align: right;\n",
       "    }\n",
       "</style>\n",
       "<table border=\"1\" class=\"dataframe\">\n",
       "  <thead>\n",
       "    <tr style=\"text-align: right;\">\n",
       "      <th></th>\n",
       "      <th>id</th>\n",
       "      <th>rank</th>\n",
       "      <th>name</th>\n",
       "      <th>symbol</th>\n",
       "      <th>current_price</th>\n",
       "      <th>current_market_cap</th>\n",
       "      <th>volume_24_hour</th>\n",
       "      <th>circulating_supply</th>\n",
       "      <th>main_link</th>\n",
       "      <th>historical_link</th>\n",
       "    </tr>\n",
       "  </thead>\n",
       "  <tbody>\n",
       "    <tr>\n",
       "      <th>0</th>\n",
       "      <td>1</td>\n",
       "      <td>1</td>\n",
       "      <td>Bitcoin</td>\n",
       "      <td>BTC</td>\n",
       "      <td>26047.6700</td>\n",
       "      <td>5.070902e+11</td>\n",
       "      <td>1.240605e+10</td>\n",
       "      <td>19467775</td>\n",
       "      <td>https://coinmarketcap.com/currencies/bitcoin/</td>\n",
       "      <td>https://coinmarketcap.com/currencies/bitcoin/h...</td>\n",
       "    </tr>\n",
       "    <tr>\n",
       "      <th>1</th>\n",
       "      <td>2</td>\n",
       "      <td>2</td>\n",
       "      <td>Ethereum</td>\n",
       "      <td>ETH</td>\n",
       "      <td>1652.9400</td>\n",
       "      <td>1.987100e+11</td>\n",
       "      <td>5.396998e+09</td>\n",
       "      <td>120216444</td>\n",
       "      <td>https://coinmarketcap.com/currencies/ethereum/</td>\n",
       "      <td>https://coinmarketcap.com/currencies/ethereum/...</td>\n",
       "    </tr>\n",
       "    <tr>\n",
       "      <th>2</th>\n",
       "      <td>3</td>\n",
       "      <td>3</td>\n",
       "      <td>Tether USDt</td>\n",
       "      <td>USDT</td>\n",
       "      <td>0.9995</td>\n",
       "      <td>8.280725e+10</td>\n",
       "      <td>1.999915e+10</td>\n",
       "      <td>82849133566</td>\n",
       "      <td>https://coinmarketcap.com/currencies/tether/</td>\n",
       "      <td>https://coinmarketcap.com/currencies/tether/hi...</td>\n",
       "    </tr>\n",
       "    <tr>\n",
       "      <th>3</th>\n",
       "      <td>4</td>\n",
       "      <td>4</td>\n",
       "      <td>BNB</td>\n",
       "      <td>BNB</td>\n",
       "      <td>218.3300</td>\n",
       "      <td>3.359048e+10</td>\n",
       "      <td>4.238911e+08</td>\n",
       "      <td>153851122</td>\n",
       "      <td>https://coinmarketcap.com/currencies/bnb/</td>\n",
       "      <td>https://coinmarketcap.com/currencies/bnb/histo...</td>\n",
       "    </tr>\n",
       "    <tr>\n",
       "      <th>4</th>\n",
       "      <td>5</td>\n",
       "      <td>5</td>\n",
       "      <td>XRP</td>\n",
       "      <td>XRP</td>\n",
       "      <td>0.5262</td>\n",
       "      <td>2.784588e+10</td>\n",
       "      <td>1.067427e+09</td>\n",
       "      <td>52914193551</td>\n",
       "      <td>https://coinmarketcap.com/currencies/xrp/</td>\n",
       "      <td>https://coinmarketcap.com/currencies/xrp/histo...</td>\n",
       "    </tr>\n",
       "  </tbody>\n",
       "</table>\n",
       "</div>"
      ],
      "text/plain": [
       "   id  rank         name symbol  current_price  current_market_cap  \\\n",
       "0   1     1      Bitcoin    BTC     26047.6700        5.070902e+11   \n",
       "1   2     2     Ethereum    ETH      1652.9400        1.987100e+11   \n",
       "2   3     3  Tether USDt   USDT         0.9995        8.280725e+10   \n",
       "3   4     4          BNB    BNB       218.3300        3.359048e+10   \n",
       "4   5     5          XRP    XRP         0.5262        2.784588e+10   \n",
       "\n",
       "   volume_24_hour  circulating_supply  \\\n",
       "0    1.240605e+10            19467775   \n",
       "1    5.396998e+09           120216444   \n",
       "2    1.999915e+10         82849133566   \n",
       "3    4.238911e+08           153851122   \n",
       "4    1.067427e+09         52914193551   \n",
       "\n",
       "                                        main_link  \\\n",
       "0   https://coinmarketcap.com/currencies/bitcoin/   \n",
       "1  https://coinmarketcap.com/currencies/ethereum/   \n",
       "2    https://coinmarketcap.com/currencies/tether/   \n",
       "3       https://coinmarketcap.com/currencies/bnb/   \n",
       "4       https://coinmarketcap.com/currencies/xrp/   \n",
       "\n",
       "                                     historical_link  \n",
       "0  https://coinmarketcap.com/currencies/bitcoin/h...  \n",
       "1  https://coinmarketcap.com/currencies/ethereum/...  \n",
       "2  https://coinmarketcap.com/currencies/tether/hi...  \n",
       "3  https://coinmarketcap.com/currencies/bnb/histo...  \n",
       "4  https://coinmarketcap.com/currencies/xrp/histo...  "
      ]
     },
     "execution_count": 10,
     "metadata": {},
     "output_type": "execute_result"
    }
   ],
   "source": [
    "coins_df.head()"
   ]
  },
  {
   "cell_type": "markdown",
   "id": "d67af496",
   "metadata": {},
   "source": [
    "# Creating Tags"
   ]
  },
  {
   "cell_type": "code",
   "execution_count": 22,
   "id": "6b58d8b2",
   "metadata": {},
   "outputs": [],
   "source": [
    "t = pd.concat([coins_df[[\"rank\", \"name\"]], tags_col], axis=1)\n",
    "\n",
    "rows = []\n",
    "for rank, _, tag_list in t.drop(t[t[\"Tags\"] == \"No Tags\"].index).values:\n",
    "    for tag in literal_eval(tag_list):\n",
    "        rows.append({\"coin_id\": rank, \"tag\": tag})\n",
    "\n",
    "tags_df = pd.DataFrame.from_dict(rows)\n",
    "tags_df.to_csv(\"datasets/tags\", index=False)"
   ]
  },
  {
   "cell_type": "markdown",
   "id": "be4e2464",
   "metadata": {},
   "source": [
    "# Creating Github Links"
   ]
  },
  {
   "cell_type": "code",
   "execution_count": 21,
   "id": "dbf54eb2",
   "metadata": {},
   "outputs": [],
   "source": [
    "github_df = pd.concat([coins_df[\"rank\"], github_col], axis=1)\n",
    "\n",
    "github_df = github_df.rename(\n",
    "    columns={\"rank\": \"coin_id\", \"GitHub Link\": \"link\"}\n",
    ")\n",
    "github_df.to_csv(\"datasets/githubs\", index=False)"
   ]
  },
  {
   "cell_type": "markdown",
   "id": "c486691e",
   "metadata": {},
   "source": [
    "# Merging All History Files"
   ]
  },
  {
   "cell_type": "code",
   "execution_count": 25,
   "id": "29ca4211",
   "metadata": {},
   "outputs": [],
   "source": [
    "histories_file_list = os.listdir(\"../datasets/history/\")\n",
    "history_dfs = []\n",
    "\n",
    "for history in histories_file_list:\n",
    "    dir = \"../datasets/history/\" + history\n",
    "    df = pd.read_csv(dir, sep=\";\")\n",
    "    df[\"name\"] = history.split(\"_\")[0]\n",
    "    history_dfs.append(df)\n",
    "\n",
    "histories_df = pd.concat(history_dfs)\n",
    "histories_df = histories_df.reset_index().drop(columns=[\"index\"])\n",
    "\n",
    "histories_df = coins_df.merge(histories_df, on=\"name\")[\n",
    "    [*histories_df.columns, \"id\"]\n",
    "]\n",
    "histories_df = histories_df.rename(\n",
    "    columns={\n",
    "        \"timeOpen\": \"time_open\",\n",
    "        \"timeClose\": \"time_close\",\n",
    "        \"timeHigh\": \"time_high\",\n",
    "        \"timeLow\": \"time_low\",\n",
    "        \"marketCap\": \"market_cap\",\n",
    "        \"id\": \"coin_id\",\n",
    "    }\n",
    ")\n",
    "\n",
    "histories_cols = histories_df.columns.tolist()\n",
    "histories_cols = histories_cols[-1:] + histories_cols[:-1]\n",
    "histories_df = histories_df[histories_cols]\n",
    "histories_df = histories_df.drop(columns=[\"name\"])\n",
    "histories_df.to_csv(\"datasets/histories\", index=False)"
   ]
  },
  {
   "cell_type": "markdown",
   "id": "70395927",
   "metadata": {},
   "source": [
    "# Final Data Overview"
   ]
  },
  {
   "cell_type": "code",
   "execution_count": 48,
   "id": "c7b22e65",
   "metadata": {},
   "outputs": [],
   "source": [
    "coins = pd.read_csv(\"./datasets/coins\")\n",
    "tags = pd.read_csv(\"./datasets/tags\")\n",
    "histories = pd.read_csv(\"./datasets/histories\", parse_dates=[\"time_open\", \"time_close\", \"time_high\", \"time_low\", \"timestamp\"])\n",
    "githubs = pd.read_csv(\"./datasets/githubs\")"
   ]
  },
  {
   "cell_type": "code",
   "execution_count": 49,
   "id": "d1618e1d",
   "metadata": {},
   "outputs": [
    {
     "data": {
      "text/plain": [
       "Index(['id', 'rank', 'name', 'symbol', 'current_price', 'current_market_cap',\n",
       "       'volume_24_hour', 'circulating_supply', 'main_link', 'historical_link'],\n",
       "      dtype='object')"
      ]
     },
     "execution_count": 49,
     "metadata": {},
     "output_type": "execute_result"
    }
   ],
   "source": [
    "coins.columns"
   ]
  },
  {
   "cell_type": "code",
   "execution_count": 50,
   "id": "67b6352c",
   "metadata": {},
   "outputs": [
    {
     "data": {
      "text/plain": [
       "Index(['coin_id', 'tag'], dtype='object')"
      ]
     },
     "execution_count": 50,
     "metadata": {},
     "output_type": "execute_result"
    }
   ],
   "source": [
    "tags.columns"
   ]
  },
  {
   "cell_type": "code",
   "execution_count": 51,
   "id": "dbced132",
   "metadata": {},
   "outputs": [
    {
     "data": {
      "text/plain": [
       "Index(['coin_id', 'link'], dtype='object')"
      ]
     },
     "execution_count": 51,
     "metadata": {},
     "output_type": "execute_result"
    }
   ],
   "source": [
    "githubs.columns"
   ]
  },
  {
   "cell_type": "code",
   "execution_count": 52,
   "id": "6f998c91",
   "metadata": {},
   "outputs": [
    {
     "data": {
      "text/plain": [
       "Index(['coin_id', 'time_open', 'time_close', 'time_high', 'time_low', 'open',\n",
       "       'high', 'low', 'close', 'volume', 'market_cap', 'timestamp'],\n",
       "      dtype='object')"
      ]
     },
     "execution_count": 52,
     "metadata": {},
     "output_type": "execute_result"
    }
   ],
   "source": [
    "histories.columns"
   ]
  },
  {
   "cell_type": "code",
   "execution_count": 53,
   "id": "453702c6",
   "metadata": {},
   "outputs": [
    {
     "data": {
      "text/plain": [
       "((200, 10), (557, 2), (63836, 12))"
      ]
     },
     "execution_count": 53,
     "metadata": {},
     "output_type": "execute_result"
    }
   ],
   "source": [
    "coins.shape, tags.shape, histories.shape"
   ]
  },
  {
   "cell_type": "markdown",
   "id": "c930fa7d",
   "metadata": {},
   "source": [
    "# Database Creation"
   ]
  },
  {
   "cell_type": "code",
   "execution_count": 54,
   "id": "c8158cb2",
   "metadata": {},
   "outputs": [
    {
     "name": "stdout",
     "output_type": "stream",
     "text": [
      "2023-09-03 19:38:21,901 INFO sqlalchemy.engine.Engine SELECT DATABASE()\n",
      "2023-09-03 19:38:21,909 INFO sqlalchemy.engine.Engine [raw sql] {}\n",
      "2023-09-03 19:38:21,921 INFO sqlalchemy.engine.Engine SELECT @@sql_mode\n",
      "2023-09-03 19:38:21,927 INFO sqlalchemy.engine.Engine [raw sql] {}\n",
      "2023-09-03 19:38:21,944 INFO sqlalchemy.engine.Engine SELECT @@lower_case_table_names\n",
      "2023-09-03 19:38:21,947 INFO sqlalchemy.engine.Engine [raw sql] {}\n"
     ]
    }
   ],
   "source": [
    "USERNAME = os.getenv(\"MYSQL_USERNAME\")\n",
    "PASSWORD = os.getenv(\"MYSQL_PASSWORD\")\n",
    "SERVER = os.getenv(\"MYSQL_SERVER\")\n",
    "DATABASE = os.getenv(\"MYSQL_DATABASE\")\n",
    "\n",
    "Base = declarative_base()\n",
    "\n",
    "meta = MetaData()\n",
    "engine = create_engine(\n",
    "    f\"mysql+pymysql://{USERNAME}:{PASSWORD}@{SERVER}:3306/{DATABASE}\", echo=True\n",
    ")\n",
    "connection = engine.connect()"
   ]
  },
  {
   "cell_type": "markdown",
   "id": "99225ecd",
   "metadata": {},
   "source": [
    "### Coin Table"
   ]
  },
  {
   "cell_type": "code",
   "execution_count": 55,
   "id": "8a1f1fac",
   "metadata": {},
   "outputs": [
    {
     "data": {
      "text/html": [
       "<div>\n",
       "<style scoped>\n",
       "    .dataframe tbody tr th:only-of-type {\n",
       "        vertical-align: middle;\n",
       "    }\n",
       "\n",
       "    .dataframe tbody tr th {\n",
       "        vertical-align: top;\n",
       "    }\n",
       "\n",
       "    .dataframe thead th {\n",
       "        text-align: right;\n",
       "    }\n",
       "</style>\n",
       "<table border=\"1\" class=\"dataframe\">\n",
       "  <thead>\n",
       "    <tr style=\"text-align: right;\">\n",
       "      <th></th>\n",
       "      <th>id</th>\n",
       "      <th>rank</th>\n",
       "      <th>name</th>\n",
       "      <th>symbol</th>\n",
       "      <th>current_price</th>\n",
       "      <th>current_market_cap</th>\n",
       "      <th>volume_24_hour</th>\n",
       "      <th>circulating_supply</th>\n",
       "      <th>main_link</th>\n",
       "      <th>historical_link</th>\n",
       "    </tr>\n",
       "  </thead>\n",
       "  <tbody>\n",
       "    <tr>\n",
       "      <th>0</th>\n",
       "      <td>1</td>\n",
       "      <td>1</td>\n",
       "      <td>Bitcoin</td>\n",
       "      <td>BTC</td>\n",
       "      <td>26047.67</td>\n",
       "      <td>5.070902e+11</td>\n",
       "      <td>1.240605e+10</td>\n",
       "      <td>19467775</td>\n",
       "      <td>https://coinmarketcap.com/currencies/bitcoin/</td>\n",
       "      <td>https://coinmarketcap.com/currencies/bitcoin/h...</td>\n",
       "    </tr>\n",
       "  </tbody>\n",
       "</table>\n",
       "</div>"
      ],
      "text/plain": [
       "   id  rank     name symbol  current_price  current_market_cap  \\\n",
       "0   1     1  Bitcoin    BTC       26047.67        5.070902e+11   \n",
       "\n",
       "   volume_24_hour  circulating_supply  \\\n",
       "0    1.240605e+10            19467775   \n",
       "\n",
       "                                       main_link  \\\n",
       "0  https://coinmarketcap.com/currencies/bitcoin/   \n",
       "\n",
       "                                     historical_link  \n",
       "0  https://coinmarketcap.com/currencies/bitcoin/h...  "
      ]
     },
     "execution_count": 55,
     "metadata": {},
     "output_type": "execute_result"
    }
   ],
   "source": [
    "coins.head(1)"
   ]
  },
  {
   "cell_type": "code",
   "execution_count": 56,
   "id": "3924f6f7",
   "metadata": {},
   "outputs": [],
   "source": [
    "class Coin(Base):\n",
    "    __tablename__ = \"coins\"\n",
    "\n",
    "    id = Column(types.Integer, primary_key=True, autoincrement=True)\n",
    "    rank = Column(types.BigInteger)\n",
    "    name = Column(types.String(255), primary_key=True)\n",
    "    symbol = Column(types.String(255))\n",
    "    main_link = Column(types.Text)\n",
    "    historical_link = Column(types.Text)\n",
    "    current_price = Column(types.Float(32))\n",
    "    current_market_cap = Column(types.Float(32))\n",
    "    volume_24_hour = Column(types.Float(32))\n",
    "    circulating_supply = Column(types.BigInteger)\n",
    "\n",
    "    tags = relationship(\"Tag\", back_populates=\"coin\")\n",
    "    history = relationship(\"History\", back_populates=\"coin\")\n",
    "\n",
    "    def __repr__(self):\n",
    "        return f\"Coin Name: {self.name} with Rank: {self.rank}\""
   ]
  },
  {
   "cell_type": "markdown",
   "id": "25ddc748",
   "metadata": {},
   "source": [
    "### Tags Table"
   ]
  },
  {
   "cell_type": "code",
   "execution_count": 57,
   "id": "99239da6",
   "metadata": {},
   "outputs": [
    {
     "data": {
      "text/html": [
       "<div>\n",
       "<style scoped>\n",
       "    .dataframe tbody tr th:only-of-type {\n",
       "        vertical-align: middle;\n",
       "    }\n",
       "\n",
       "    .dataframe tbody tr th {\n",
       "        vertical-align: top;\n",
       "    }\n",
       "\n",
       "    .dataframe thead th {\n",
       "        text-align: right;\n",
       "    }\n",
       "</style>\n",
       "<table border=\"1\" class=\"dataframe\">\n",
       "  <thead>\n",
       "    <tr style=\"text-align: right;\">\n",
       "      <th></th>\n",
       "      <th>coin_id</th>\n",
       "      <th>tag</th>\n",
       "    </tr>\n",
       "  </thead>\n",
       "  <tbody>\n",
       "    <tr>\n",
       "      <th>0</th>\n",
       "      <td>1</td>\n",
       "      <td>Mineable</td>\n",
       "    </tr>\n",
       "  </tbody>\n",
       "</table>\n",
       "</div>"
      ],
      "text/plain": [
       "   coin_id       tag\n",
       "0        1  Mineable"
      ]
     },
     "execution_count": 57,
     "metadata": {},
     "output_type": "execute_result"
    }
   ],
   "source": [
    "tags.head(1)"
   ]
  },
  {
   "cell_type": "code",
   "execution_count": 58,
   "id": "88550317",
   "metadata": {},
   "outputs": [],
   "source": [
    "class Tag(Base):\n",
    "    __tablename__ = \"tags\"\n",
    "\n",
    "    id = Column(types.BigInteger, primary_key=True, autoincrement=True)\n",
    "    coin_id = Column(types.Integer, ForeignKey(\"coins.id\"), nullable=False)\n",
    "    tag = Column(types.String(255))\n",
    "\n",
    "    coin = relationship(\"Coin\", backref=\"tags\")\n",
    "\n",
    "    def __repr__(self):\n",
    "        return f\"Tag Name: {self.tag}\""
   ]
  },
  {
   "cell_type": "markdown",
   "id": "5aacc7da",
   "metadata": {},
   "source": [
    "### Githubs Table"
   ]
  },
  {
   "cell_type": "code",
   "execution_count": 59,
   "id": "de082445",
   "metadata": {},
   "outputs": [
    {
     "data": {
      "text/html": [
       "<div>\n",
       "<style scoped>\n",
       "    .dataframe tbody tr th:only-of-type {\n",
       "        vertical-align: middle;\n",
       "    }\n",
       "\n",
       "    .dataframe tbody tr th {\n",
       "        vertical-align: top;\n",
       "    }\n",
       "\n",
       "    .dataframe thead th {\n",
       "        text-align: right;\n",
       "    }\n",
       "</style>\n",
       "<table border=\"1\" class=\"dataframe\">\n",
       "  <thead>\n",
       "    <tr style=\"text-align: right;\">\n",
       "      <th></th>\n",
       "      <th>coin_id</th>\n",
       "      <th>link</th>\n",
       "    </tr>\n",
       "  </thead>\n",
       "  <tbody>\n",
       "    <tr>\n",
       "      <th>0</th>\n",
       "      <td>1</td>\n",
       "      <td>https://github.com/bitcoin/bitcoin</td>\n",
       "    </tr>\n",
       "  </tbody>\n",
       "</table>\n",
       "</div>"
      ],
      "text/plain": [
       "   coin_id                                link\n",
       "0        1  https://github.com/bitcoin/bitcoin"
      ]
     },
     "execution_count": 59,
     "metadata": {},
     "output_type": "execute_result"
    }
   ],
   "source": [
    "githubs.head(1)"
   ]
  },
  {
   "cell_type": "code",
   "execution_count": 60,
   "id": "cc54b433",
   "metadata": {},
   "outputs": [],
   "source": [
    "class Github(Base):\n",
    "    __tablename__ = \"githubs\"\n",
    "\n",
    "    id = Column(types.Integer, primary_key=True, autoincrement=True)\n",
    "    coin_id = Column(types.Integer, ForeignKey(\"coins.id\"), nullable=False)\n",
    "    link = Column(types.Text)\n",
    "\n",
    "    coin = relationship(\"Coin\", backref=\"tags\")\n",
    "\n",
    "    def __repr__(self):\n",
    "        return f\"Github Link: {self.link}\""
   ]
  },
  {
   "cell_type": "markdown",
   "id": "b5a588df",
   "metadata": {},
   "source": [
    "### History Table"
   ]
  },
  {
   "cell_type": "code",
   "execution_count": 61,
   "id": "f31b103c",
   "metadata": {},
   "outputs": [
    {
     "data": {
      "text/html": [
       "<div>\n",
       "<style scoped>\n",
       "    .dataframe tbody tr th:only-of-type {\n",
       "        vertical-align: middle;\n",
       "    }\n",
       "\n",
       "    .dataframe tbody tr th {\n",
       "        vertical-align: top;\n",
       "    }\n",
       "\n",
       "    .dataframe thead th {\n",
       "        text-align: right;\n",
       "    }\n",
       "</style>\n",
       "<table border=\"1\" class=\"dataframe\">\n",
       "  <thead>\n",
       "    <tr style=\"text-align: right;\">\n",
       "      <th></th>\n",
       "      <th>coin_id</th>\n",
       "      <th>time_open</th>\n",
       "      <th>time_close</th>\n",
       "      <th>time_high</th>\n",
       "      <th>time_low</th>\n",
       "      <th>open</th>\n",
       "      <th>high</th>\n",
       "      <th>low</th>\n",
       "      <th>close</th>\n",
       "      <th>volume</th>\n",
       "      <th>market_cap</th>\n",
       "      <th>timestamp</th>\n",
       "    </tr>\n",
       "  </thead>\n",
       "  <tbody>\n",
       "    <tr>\n",
       "      <th>0</th>\n",
       "      <td>1</td>\n",
       "      <td>2023-08-31 00:00:00+00:00</td>\n",
       "      <td>2023-08-31 23:59:59.999000+00:00</td>\n",
       "      <td>2023-08-31 11:43:00+00:00</td>\n",
       "      <td>2023-08-31 21:09:00+00:00</td>\n",
       "      <td>27301.929317</td>\n",
       "      <td>27456.079001</td>\n",
       "      <td>25752.929947</td>\n",
       "      <td>25931.472893</td>\n",
       "      <td>2.018100e+10</td>\n",
       "      <td>5.049576e+11</td>\n",
       "      <td>2023-08-31 23:59:59.999000+00:00</td>\n",
       "    </tr>\n",
       "  </tbody>\n",
       "</table>\n",
       "</div>"
      ],
      "text/plain": [
       "   coin_id                 time_open                       time_close  \\\n",
       "0        1 2023-08-31 00:00:00+00:00 2023-08-31 23:59:59.999000+00:00   \n",
       "\n",
       "                  time_high                  time_low          open  \\\n",
       "0 2023-08-31 11:43:00+00:00 2023-08-31 21:09:00+00:00  27301.929317   \n",
       "\n",
       "           high           low         close        volume    market_cap  \\\n",
       "0  27456.079001  25752.929947  25931.472893  2.018100e+10  5.049576e+11   \n",
       "\n",
       "                         timestamp  \n",
       "0 2023-08-31 23:59:59.999000+00:00  "
      ]
     },
     "execution_count": 61,
     "metadata": {},
     "output_type": "execute_result"
    }
   ],
   "source": [
    "histories.head(1)"
   ]
  },
  {
   "cell_type": "code",
   "execution_count": 62,
   "id": "6b3e98a4",
   "metadata": {},
   "outputs": [],
   "source": [
    "class History(Base):\n",
    "    __tablename__ = \"history\"\n",
    "\n",
    "    id = Column(types.BigInteger, primary_key=True, autoincrement=True)\n",
    "    coin_id = Column(types.Integer, ForeignKey(\"coins.id\"), nullable=False)\n",
    "    time_open = Column(types.DateTime)\n",
    "    time_close = Column(types.DateTime)\n",
    "    time_high = Column(types.DateTime)\n",
    "    time_low = Column(types.DateTime)\n",
    "    open = Column(types.Float(32))\n",
    "    high = Column(types.Float(32))\n",
    "    low = Column(types.Float(32))\n",
    "    close = Column(types.Float(32))\n",
    "    volume = Column(types.Float(32))\n",
    "    market_cap = Column(types.Float(32))\n",
    "    timestamp = Column(types.DateTime)\n",
    "\n",
    "    history = relationship(\"Coin\", back_populates=\"history\")\n",
    "\n",
    "    def __repr__(self):\n",
    "        return f\"Coin Name: {self.coin_id}\""
   ]
  },
  {
   "cell_type": "markdown",
   "id": "345b543f",
   "metadata": {},
   "source": [
    "### Tables Creation"
   ]
  },
  {
   "cell_type": "code",
   "execution_count": 63,
   "id": "41fe2ba5",
   "metadata": {},
   "outputs": [
    {
     "name": "stdout",
     "output_type": "stream",
     "text": [
      "2023-09-03 19:38:22,362 INFO sqlalchemy.engine.Engine BEGIN (implicit)\n",
      "2023-09-03 19:38:22,364 INFO sqlalchemy.engine.Engine DESCRIBE `coinmarketplace`.`coins`\n",
      "2023-09-03 19:38:22,365 INFO sqlalchemy.engine.Engine [raw sql] {}\n",
      "2023-09-03 19:38:22,368 INFO sqlalchemy.engine.Engine DESCRIBE `coinmarketplace`.`tags`\n",
      "2023-09-03 19:38:22,369 INFO sqlalchemy.engine.Engine [raw sql] {}\n",
      "2023-09-03 19:38:22,371 INFO sqlalchemy.engine.Engine DESCRIBE `coinmarketplace`.`githubs`\n",
      "2023-09-03 19:38:22,372 INFO sqlalchemy.engine.Engine [raw sql] {}\n",
      "2023-09-03 19:38:22,375 INFO sqlalchemy.engine.Engine DESCRIBE `coinmarketplace`.`history`\n",
      "2023-09-03 19:38:22,376 INFO sqlalchemy.engine.Engine [raw sql] {}\n",
      "2023-09-03 19:38:22,379 INFO sqlalchemy.engine.Engine \n",
      "CREATE TABLE coins (\n",
      "\tid INTEGER NOT NULL AUTO_INCREMENT, \n",
      "\t`rank` BIGINT, \n",
      "\tname VARCHAR(255) NOT NULL, \n",
      "\tsymbol VARCHAR(255), \n",
      "\tmain_link TEXT, \n",
      "\thistorical_link TEXT, \n",
      "\tcurrent_price FLOAT(32), \n",
      "\tcurrent_market_cap FLOAT(32), \n",
      "\tvolume_24_hour FLOAT(32), \n",
      "\tcirculating_supply BIGINT, \n",
      "\tPRIMARY KEY (id, name)\n",
      ")\n",
      "\n",
      "\n",
      "2023-09-03 19:38:22,380 INFO sqlalchemy.engine.Engine [no key 0.00128s] {}\n",
      "2023-09-03 19:38:22,407 INFO sqlalchemy.engine.Engine \n",
      "CREATE TABLE tags (\n",
      "\tid BIGINT NOT NULL AUTO_INCREMENT, \n",
      "\tcoin_id INTEGER NOT NULL, \n",
      "\ttag VARCHAR(255), \n",
      "\tPRIMARY KEY (id), \n",
      "\tFOREIGN KEY(coin_id) REFERENCES coins (id)\n",
      ")\n",
      "\n",
      "\n",
      "2023-09-03 19:38:22,408 INFO sqlalchemy.engine.Engine [no key 0.00175s] {}\n",
      "2023-09-03 19:38:22,558 INFO sqlalchemy.engine.Engine \n",
      "CREATE TABLE githubs (\n",
      "\tid INTEGER NOT NULL AUTO_INCREMENT, \n",
      "\tcoin_id INTEGER NOT NULL, \n",
      "\tlink TEXT, \n",
      "\tPRIMARY KEY (id), \n",
      "\tFOREIGN KEY(coin_id) REFERENCES coins (id)\n",
      ")\n",
      "\n",
      "\n",
      "2023-09-03 19:38:22,566 INFO sqlalchemy.engine.Engine [no key 0.00740s] {}\n",
      "2023-09-03 19:38:22,876 INFO sqlalchemy.engine.Engine \n",
      "CREATE TABLE history (\n",
      "\tid BIGINT NOT NULL AUTO_INCREMENT, \n",
      "\tcoin_id INTEGER NOT NULL, \n",
      "\ttime_open DATETIME, \n",
      "\ttime_close DATETIME, \n",
      "\ttime_high DATETIME, \n",
      "\ttime_low DATETIME, \n",
      "\topen FLOAT(32), \n",
      "\thigh FLOAT(32), \n",
      "\tlow FLOAT(32), \n",
      "\tclose FLOAT(32), \n",
      "\tvolume FLOAT(32), \n",
      "\tmarket_cap FLOAT(32), \n",
      "\ttimestamp DATETIME, \n",
      "\tPRIMARY KEY (id), \n",
      "\tFOREIGN KEY(coin_id) REFERENCES coins (id)\n",
      ")\n",
      "\n",
      "\n",
      "2023-09-03 19:38:22,883 INFO sqlalchemy.engine.Engine [no key 0.00735s] {}\n",
      "2023-09-03 19:38:23,250 INFO sqlalchemy.engine.Engine COMMIT\n"
     ]
    }
   ],
   "source": [
    "Base.metadata.create_all(engine)"
   ]
  },
  {
   "cell_type": "markdown",
   "id": "da1cb508",
   "metadata": {},
   "source": [
    "# Data Insertion"
   ]
  },
  {
   "cell_type": "code",
   "execution_count": 64,
   "id": "0788ce06",
   "metadata": {},
   "outputs": [
    {
     "name": "stdout",
     "output_type": "stream",
     "text": [
      "2023-09-03 19:38:28,424 INFO sqlalchemy.engine.Engine BEGIN (implicit)\n",
      "2023-09-03 19:38:28,429 INFO sqlalchemy.engine.Engine DESCRIBE `coinmarketplace`.`coins`\n",
      "2023-09-03 19:38:28,430 INFO sqlalchemy.engine.Engine [raw sql] {}\n",
      "2023-09-03 19:38:28,440 INFO sqlalchemy.engine.Engine INSERT INTO coins (id, `rank`, name, symbol, current_price, current_market_cap, volume_24_hour, circulating_supply, main_link, historical_link) VALUES (%(id)s, %(rank)s, %(name)s, %(symbol)s, %(current_price)s, %(current_market_cap)s, %(volume_24_hour)s, %(circulating_supply)s, %(main_link)s, %(historical_link)s)\n",
      "2023-09-03 19:38:28,441 INFO sqlalchemy.engine.Engine [generated in 0.00245s] [{'id': 1, 'rank': 1, 'name': 'Bitcoin', 'symbol': 'BTC', 'current_price': 26047.67, 'current_market_cap': 507090156466.71, 'volume_24_hour': 12406045117.51, 'circulating_supply': 19467775, 'main_link': 'https://coinmarketcap.com/currencies/bitcoin/', 'historical_link': 'https://coinmarketcap.com/currencies/bitcoin/historical-data/'}, {'id': 2, 'rank': 2, 'name': 'Ethereum', 'symbol': 'ETH', 'current_price': 1652.94, 'current_market_cap': 198709982386.16, 'volume_24_hour': 5396997822.81, 'circulating_supply': 120216444, 'main_link': 'https://coinmarketcap.com/currencies/ethereum/', 'historical_link': 'https://coinmarketcap.com/currencies/ethereum/historical-data/'}, {'id': 3, 'rank': 3, 'name': 'Tether USDt', 'symbol': 'USDT', 'current_price': 0.9995, 'current_market_cap': 82807252662.66, 'volume_24_hour': 19999153581.65, 'circulating_supply': 82849133566, 'main_link': 'https://coinmarketcap.com/currencies/tether/', 'historical_link': 'https://coinmarketcap.com/currencies/tether/historical-data/'}, {'id': 4, 'rank': 4, 'name': 'BNB', 'symbol': 'BNB', 'current_price': 218.33, 'current_market_cap': 33590478887.3, 'volume_24_hour': 423891091.63, 'circulating_supply': 153851122, 'main_link': 'https://coinmarketcap.com/currencies/bnb/', 'historical_link': 'https://coinmarketcap.com/currencies/bnb/historical-data/'}, {'id': 5, 'rank': 5, 'name': 'XRP', 'symbol': 'XRP', 'current_price': 0.5262, 'current_market_cap': 27845876512.16, 'volume_24_hour': 1067427241.27, 'circulating_supply': 52914193551, 'main_link': 'https://coinmarketcap.com/currencies/xrp/', 'historical_link': 'https://coinmarketcap.com/currencies/xrp/historical-data/'}, {'id': 6, 'rank': 6, 'name': 'USD Coin', 'symbol': 'USDC', 'current_price': 1.0001, 'current_market_cap': 25919090832.39, 'volume_24_hour': 2870155394.25, 'circulating_supply': 25916750966, 'main_link': 'https://coinmarketcap.com/currencies/usd-coin/', 'historical_link': 'https://coinmarketcap.com/currencies/usd-coin/historical-data/'}, {'id': 7, 'rank': 7, 'name': 'Cardano', 'symbol': 'ADA', 'current_price': 0.2611, 'current_market_cap': 9152956074.04, 'volume_24_hour': 226745371.9, 'circulating_supply': 35058106675, 'main_link': 'https://coinmarketcap.com/currencies/cardano/', 'historical_link': 'https://coinmarketcap.com/currencies/cardano/historical-data/'}, {'id': 8, 'rank': 8, 'name': 'Dogecoin', 'symbol': 'DOGE', 'current_price': 0.06308, 'current_market_cap': 8878470592.73, 'volume_24_hour': 202977283.44, 'circulating_supply': 140739636384, 'main_link': 'https://coinmarketcap.com/currencies/dogecoin/', 'historical_link': 'https://coinmarketcap.com/currencies/dogecoin/historical-data/'}  ... displaying 10 of 200 total bound parameter sets ...  {'id': 199, 'rank': 199, 'name': 'Status', 'symbol': 'SNT', 'current_price': 0.02173, 'current_market_cap': 83853059.08, 'volume_24_hour': 1634389.39, 'circulating_supply': 3859423502, 'main_link': 'https://coinmarketcap.com/currencies/status/', 'historical_link': 'https://coinmarketcap.com/currencies/status/historical-data/'}, {'id': 200, 'rank': 200, 'name': 'Amp', 'symbol': 'AMP', 'current_price': 0.001954, 'current_market_cap': 82508280.5, 'volume_24_hour': 3079303.02, 'circulating_supply': 42227702186, 'main_link': 'https://coinmarketcap.com/currencies/amp/', 'historical_link': 'https://coinmarketcap.com/currencies/amp/historical-data/'}]\n",
      "2023-09-03 19:38:28,487 INFO sqlalchemy.engine.Engine COMMIT\n"
     ]
    },
    {
     "data": {
      "text/plain": [
       "200"
      ]
     },
     "execution_count": 64,
     "metadata": {},
     "output_type": "execute_result"
    }
   ],
   "source": [
    "coins.to_sql(\"coins\", engine, if_exists=\"append\", index=False)"
   ]
  },
  {
   "cell_type": "code",
   "execution_count": 65,
   "id": "d1151e75",
   "metadata": {},
   "outputs": [
    {
     "name": "stdout",
     "output_type": "stream",
     "text": [
      "2023-09-03 19:38:30,468 INFO sqlalchemy.engine.Engine BEGIN (implicit)\n",
      "2023-09-03 19:38:30,470 INFO sqlalchemy.engine.Engine DESCRIBE `coinmarketplace`.`githubs`\n",
      "2023-09-03 19:38:30,471 INFO sqlalchemy.engine.Engine [raw sql] {}\n",
      "2023-09-03 19:38:30,480 INFO sqlalchemy.engine.Engine INSERT INTO githubs (coin_id, link) VALUES (%(coin_id)s, %(link)s)\n",
      "2023-09-03 19:38:30,482 INFO sqlalchemy.engine.Engine [generated in 0.00292s] [{'coin_id': 1, 'link': 'https://github.com/bitcoin/bitcoin'}, {'coin_id': 2, 'link': 'https://github.com/ethereum/go-ethereum'}, {'coin_id': 3, 'link': 'No GitHub Link'}, {'coin_id': 4, 'link': 'https://github.com/bnb-chain'}, {'coin_id': 5, 'link': 'https://github.com/ripple/rippled'}, {'coin_id': 6, 'link': 'https://github.com/centrehq/centre-tokens'}, {'coin_id': 7, 'link': 'https://cardanoupdates.com/'}, {'coin_id': 8, 'link': 'https://github.com/dogecoin/dogecoin'}  ... displaying 10 of 200 total bound parameter sets ...  {'coin_id': 199, 'link': 'https://github.com/status-im'}, {'coin_id': 200, 'link': 'https://github.com/amptoken'}]\n",
      "2023-09-03 19:38:30,498 INFO sqlalchemy.engine.Engine COMMIT\n"
     ]
    },
    {
     "data": {
      "text/plain": [
       "200"
      ]
     },
     "execution_count": 65,
     "metadata": {},
     "output_type": "execute_result"
    }
   ],
   "source": [
    "githubs.to_sql(\"githubs\", engine, if_exists=\"append\", index=False)"
   ]
  },
  {
   "cell_type": "code",
   "execution_count": 66,
   "id": "665e05c4",
   "metadata": {},
   "outputs": [
    {
     "name": "stdout",
     "output_type": "stream",
     "text": [
      "2023-09-03 19:38:33,033 INFO sqlalchemy.engine.Engine BEGIN (implicit)\n",
      "2023-09-03 19:38:33,036 INFO sqlalchemy.engine.Engine DESCRIBE `coinmarketplace`.`tags`\n",
      "2023-09-03 19:38:33,038 INFO sqlalchemy.engine.Engine [raw sql] {}\n",
      "2023-09-03 19:38:33,047 INFO sqlalchemy.engine.Engine INSERT INTO tags (coin_id, tag) VALUES (%(coin_id)s, %(tag)s)\n",
      "2023-09-03 19:38:33,049 INFO sqlalchemy.engine.Engine [generated in 0.00253s] [{'coin_id': 1, 'tag': 'Mineable'}, {'coin_id': 1, 'tag': 'PoW'}, {'coin_id': 1, 'tag': 'SHA-256'}, {'coin_id': 2, 'tag': 'PoS'}, {'coin_id': 2, 'tag': 'Smart Contracts'}, {'coin_id': 2, 'tag': 'Ethereum Ecosystem'}, {'coin_id': 3, 'tag': 'Payments'}, {'coin_id': 3, 'tag': 'Stablecoin'}  ... displaying 10 of 557 total bound parameter sets ...  {'coin_id': 200, 'tag': 'SEC Security Token'}, {'coin_id': 200, 'tag': 'Alleged SEC Securities'}]\n",
      "2023-09-03 19:38:33,076 INFO sqlalchemy.engine.Engine COMMIT\n"
     ]
    },
    {
     "data": {
      "text/plain": [
       "557"
      ]
     },
     "execution_count": 66,
     "metadata": {},
     "output_type": "execute_result"
    }
   ],
   "source": [
    "tags.to_sql(\"tags\", engine, if_exists=\"append\", index=False)"
   ]
  },
  {
   "cell_type": "code",
   "execution_count": 67,
   "id": "57e772db",
   "metadata": {},
   "outputs": [
    {
     "name": "stdout",
     "output_type": "stream",
     "text": [
      "2023-09-03 19:38:35,053 INFO sqlalchemy.engine.Engine BEGIN (implicit)\n",
      "2023-09-03 19:38:35,058 INFO sqlalchemy.engine.Engine DESCRIBE `coinmarketplace`.`history`\n",
      "2023-09-03 19:38:35,059 INFO sqlalchemy.engine.Engine [raw sql] {}\n",
      "2023-09-03 19:38:36,962 INFO sqlalchemy.engine.Engine INSERT INTO history (coin_id, time_open, time_close, time_high, time_low, open, high, low, close, volume, market_cap, timestamp) VALUES (%(coin_id)s, %(time_open)s, %(time_close)s, %(time_high)s, %(time_low)s, %(open)s, %(high)s, %(low)s, %(close)s, %(volume)s, %(market_cap)s, %(timestamp)s)\n",
      "2023-09-03 19:38:36,966 INFO sqlalchemy.engine.Engine [generated in 1.48554s] [{'coin_id': 1, 'time_open': datetime.datetime(2023, 8, 31, 0, 0, tzinfo=datetime.timezone.utc), 'time_close': datetime.datetime(2023, 8, 31, 23, 59, 59, 999000, tzinfo=datetime.timezone.utc), 'time_high': datetime.datetime(2023, 8, 31, 11, 43, tzinfo=datetime.timezone.utc), 'time_low': datetime.datetime(2023, 8, 31, 21, 9, tzinfo=datetime.timezone.utc), 'open': 27301.9293168046, 'high': 27456.0790013622, 'low': 25752.9299469294, 'close': 25931.4728933574, 'volume': 20181001451.19, 'market_cap': 504957555550.64, 'timestamp': datetime.datetime(2023, 8, 31, 23, 59, 59, 999000, tzinfo=datetime.timezone.utc)}, {'coin_id': 1, 'time_open': datetime.datetime(2023, 8, 30, 0, 0, tzinfo=datetime.timezone.utc), 'time_close': datetime.datetime(2023, 8, 30, 23, 59, 59, 999000, tzinfo=datetime.timezone.utc), 'time_high': datetime.datetime(2023, 8, 30, 0, 21, tzinfo=datetime.timezone.utc), 'time_low': datetime.datetime(2023, 8, 30, 15, 4, tzinfo=datetime.timezone.utc), 'open': 27726.0840340273, 'high': 27760.1593966037, 'low': 27069.2074245836, 'close': 27297.2653483206, 'volume': 16343655235.34, 'market_cap': 531528938704.34, 'timestamp': datetime.datetime(2023, 8, 30, 23, 59, 59, 999000, tzinfo=datetime.timezone.utc)}, {'coin_id': 1, 'time_open': datetime.datetime(2023, 8, 29, 0, 0, tzinfo=datetime.timezone.utc), 'time_close': datetime.datetime(2023, 8, 29, 23, 59, 59, 999000, tzinfo=datetime.timezone.utc), 'time_high': datetime.datetime(2023, 8, 29, 16, 28, tzinfo=datetime.timezone.utc), 'time_low': datetime.datetime(2023, 8, 29, 10, 39, tzinfo=datetime.timezone.utc), 'open': 26102.4858320026, 'high': 28089.3380271543, 'low': 25912.6289086749, 'close': 27727.3930090424, 'volume': 29368391711.99, 'market_cap': 539882481562.26, 'timestamp': datetime.datetime(2023, 8, 29, 23, 59, 59, 999000, tzinfo=datetime.timezone.utc)}, {'coin_id': 1, 'time_open': datetime.datetime(2023, 8, 28, 0, 0, tzinfo=datetime.timezone.utc), 'time_close': datetime.datetime(2023, 8, 28, 23, 59, 59, 999000, tzinfo=datetime.timezone.utc), 'time_high': datetime.datetime(2023, 8, 28, 12, 29, tzinfo=datetime.timezone.utc), 'time_low': datetime.datetime(2023, 8, 28, 7, 46, tzinfo=datetime.timezone.utc), 'open': 26089.6149228858, 'high': 26198.5790644484, 'low': 25880.6002488905, 'close': 26106.1500439649, 'volume': 11002805166.45, 'market_cap': 508288516574.2, 'timestamp': datetime.datetime(2023, 8, 28, 23, 59, 59, 999000, tzinfo=datetime.timezone.utc)}, {'coin_id': 1, 'time_open': datetime.datetime(2023, 8, 27, 0, 0, tzinfo=datetime.timezone.utc), 'time_close': datetime.datetime(2023, 8, 27, 23, 59, 59, 999000, tzinfo=datetime.timezone.utc), 'time_high': datetime.datetime(2023, 8, 27, 17, 2, tzinfo=datetime.timezone.utc), 'time_low': datetime.datetime(2023, 8, 27, 1, 43, tzinfo=datetime.timezone.utc), 'open': 26008.2418008294, 'high': 26165.3724382761, 'low': 25965.0975389949, 'close': 26089.6934716635, 'volume': 6913768611.22, 'market_cap': 507949530130.7, 'timestamp': datetime.datetime(2023, 8, 27, 23, 59, 59, 999000, tzinfo=datetime.timezone.utc)}, {'coin_id': 1, 'time_open': datetime.datetime(2023, 8, 26, 0, 0, tzinfo=datetime.timezone.utc), 'time_close': datetime.datetime(2023, 8, 26, 23, 59, 59, 999000, tzinfo=datetime.timezone.utc), 'time_high': datetime.datetime(2023, 8, 26, 2, 17, tzinfo=datetime.timezone.utc), 'time_low': datetime.datetime(2023, 8, 26, 12, 46, tzinfo=datetime.timezone.utc), 'open': 26047.2352396372, 'high': 26107.3842905801, 'low': 25983.8782739266, 'close': 26008.462659668, 'volume': 6034817316.31, 'market_cap': 506348824288.34, 'timestamp': datetime.datetime(2023, 8, 26, 23, 59, 59, 999000, tzinfo=datetime.timezone.utc)}, {'coin_id': 1, 'time_open': datetime.datetime(2023, 8, 25, 0, 0, tzinfo=datetime.timezone.utc), 'time_close': datetime.datetime(2023, 8, 25, 23, 59, 59, 999000, tzinfo=datetime.timezone.utc), 'time_high': datetime.datetime(2023, 8, 25, 14, 17, tzinfo=datetime.timezone.utc), 'time_low': datetime.datetime(2023, 8, 25, 14, 57, tzinfo=datetime.timezone.utc), 'open': 26163.6800536736, 'high': 26248.1034276033, 'low': 25786.8124616266, 'close': 26047.6688510481, 'volume': 12406045117.51, 'market_cap': 507090156466.72, 'timestamp': datetime.datetime(2023, 8, 25, 23, 59, 59, 999000, tzinfo=datetime.timezone.utc)}, {'coin_id': 1, 'time_open': datetime.datetime(2023, 8, 24, 0, 0, tzinfo=datetime.timezone.utc), 'time_close': datetime.datetime(2023, 8, 24, 23, 59, 59, 999000, tzinfo=datetime.timezone.utc), 'time_high': datetime.datetime(2023, 8, 24, 9, 10, tzinfo=datetime.timezone.utc), 'time_low': datetime.datetime(2023, 8, 24, 17, 39, tzinfo=datetime.timezone.utc), 'open': 26431.5198924678, 'high': 26554.9098173772, 'low': 25914.9255589463, 'close': 26162.3724949505, 'volume': 12871532023.01, 'market_cap': 509301597240.58, 'timestamp': datetime.datetime(2023, 8, 24, 23, 59, 59, 999000, tzinfo=datetime.timezone.utc)}  ... displaying 10 of 63836 total bound parameter sets ...  {'coin_id': 200, 'time_open': datetime.datetime(2022, 9, 3, 0, 0, tzinfo=datetime.timezone.utc), 'time_close': datetime.datetime(2022, 9, 3, 23, 59, 59, 999000, tzinfo=datetime.timezone.utc), 'time_high': datetime.datetime(2022, 9, 3, 13, 50, tzinfo=datetime.timezone.utc), 'time_low': datetime.datetime(2022, 9, 3, 10, 6, tzinfo=datetime.timezone.utc), 'open': 0.00602181336853, 'high': 0.00611265568062, 'low': 0.00598566303481, 'close': 0.00601379397087, 'volume': 4344135.26, 'market_cap': 253948700.81, 'timestamp': datetime.datetime(2022, 9, 3, 23, 59, 59, 999000, tzinfo=datetime.timezone.utc)}, {'coin_id': 200, 'time_open': datetime.datetime(2022, 9, 2, 0, 0, tzinfo=datetime.timezone.utc), 'time_close': datetime.datetime(2022, 9, 2, 23, 59, 59, 999000, tzinfo=datetime.timezone.utc), 'time_high': datetime.datetime(2022, 9, 2, 0, 3, tzinfo=datetime.timezone.utc), 'time_low': datetime.datetime(2022, 9, 2, 2, 39, tzinfo=datetime.timezone.utc), 'open': 0.00617134242139, 'high': 0.00617402538226, 'low': 0.00599576019532, 'close': 0.00602548160256, 'volume': 7025523.16, 'market_cap': 254442242.64, 'timestamp': datetime.datetime(2022, 9, 2, 23, 59, 59, 999000, tzinfo=datetime.timezone.utc)}]\n",
      "2023-09-03 19:38:48,146 INFO sqlalchemy.engine.Engine COMMIT\n"
     ]
    },
    {
     "data": {
      "text/plain": [
       "63836"
      ]
     },
     "execution_count": 67,
     "metadata": {},
     "output_type": "execute_result"
    }
   ],
   "source": [
    "histories.to_sql(\"history\", engine, if_exists=\"append\", index=False)"
   ]
  }
 ],
 "metadata": {
  "kernelspec": {
   "display_name": "Python 3 (ipykernel)",
   "language": "python",
   "name": "python3"
  },
  "language_info": {
   "codemirror_mode": {
    "name": "ipython",
    "version": 3
   },
   "file_extension": ".py",
   "mimetype": "text/x-python",
   "name": "python",
   "nbconvert_exporter": "python",
   "pygments_lexer": "ipython3",
   "version": "3.9.18"
  }
 },
 "nbformat": 4,
 "nbformat_minor": 5
}
