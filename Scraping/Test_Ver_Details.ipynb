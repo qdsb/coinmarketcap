{
 "cells": [
  {
   "cell_type": "code",
   "execution_count": 1,
   "metadata": {},
   "outputs": [],
   "source": [
    "import pandas as pd\n",
    "from selenium import webdriver\n",
    "from selenium.webdriver.common.by import By\n",
    "from selenium.webdriver.common.keys import Keys\n",
    "from bs4 import BeautifulSoup\n",
    "from time import sleep"
   ]
  },
  {
   "cell_type": "code",
   "execution_count": 2,
   "metadata": {},
   "outputs": [
    {
     "data": {
      "text/html": [
       "<div>\n",
       "<style scoped>\n",
       "    .dataframe tbody tr th:only-of-type {\n",
       "        vertical-align: middle;\n",
       "    }\n",
       "\n",
       "    .dataframe tbody tr th {\n",
       "        vertical-align: top;\n",
       "    }\n",
       "\n",
       "    .dataframe thead th {\n",
       "        text-align: right;\n",
       "    }\n",
       "</style>\n",
       "<table border=\"1\" class=\"dataframe\">\n",
       "  <thead>\n",
       "    <tr style=\"text-align: right;\">\n",
       "      <th></th>\n",
       "      <th>Rank</th>\n",
       "      <th>Name</th>\n",
       "      <th>Symbol</th>\n",
       "      <th>MainLink</th>\n",
       "      <th>HistoricalLink</th>\n",
       "    </tr>\n",
       "  </thead>\n",
       "  <tbody>\n",
       "    <tr>\n",
       "      <th>0</th>\n",
       "      <td>1</td>\n",
       "      <td>Bitcoin</td>\n",
       "      <td>BTC</td>\n",
       "      <td>https://coinmarketcap.com/currencies/bitcoin/</td>\n",
       "      <td>https://coinmarketcap.com/currencies/bitcoin/h...</td>\n",
       "    </tr>\n",
       "    <tr>\n",
       "      <th>1</th>\n",
       "      <td>2</td>\n",
       "      <td>Ethereum</td>\n",
       "      <td>ETH</td>\n",
       "      <td>https://coinmarketcap.com/currencies/ethereum/</td>\n",
       "      <td>https://coinmarketcap.com/currencies/ethereum/...</td>\n",
       "    </tr>\n",
       "    <tr>\n",
       "      <th>2</th>\n",
       "      <td>3</td>\n",
       "      <td>Tether USDt</td>\n",
       "      <td>USDT</td>\n",
       "      <td>https://coinmarketcap.com/currencies/tether/</td>\n",
       "      <td>https://coinmarketcap.com/currencies/tether/hi...</td>\n",
       "    </tr>\n",
       "    <tr>\n",
       "      <th>3</th>\n",
       "      <td>4</td>\n",
       "      <td>BNB</td>\n",
       "      <td>BNB</td>\n",
       "      <td>https://coinmarketcap.com/currencies/bnb/</td>\n",
       "      <td>https://coinmarketcap.com/currencies/bnb/histo...</td>\n",
       "    </tr>\n",
       "    <tr>\n",
       "      <th>4</th>\n",
       "      <td>5</td>\n",
       "      <td>XRP</td>\n",
       "      <td>XRP</td>\n",
       "      <td>https://coinmarketcap.com/currencies/xrp/</td>\n",
       "      <td>https://coinmarketcap.com/currencies/xrp/histo...</td>\n",
       "    </tr>\n",
       "  </tbody>\n",
       "</table>\n",
       "</div>"
      ],
      "text/plain": [
       "   Rank         Name Symbol                                        MainLink  \\\n",
       "0     1      Bitcoin    BTC   https://coinmarketcap.com/currencies/bitcoin/   \n",
       "1     2     Ethereum    ETH  https://coinmarketcap.com/currencies/ethereum/   \n",
       "2     3  Tether USDt   USDT    https://coinmarketcap.com/currencies/tether/   \n",
       "3     4          BNB    BNB       https://coinmarketcap.com/currencies/bnb/   \n",
       "4     5          XRP    XRP       https://coinmarketcap.com/currencies/xrp/   \n",
       "\n",
       "                                      HistoricalLink  \n",
       "0  https://coinmarketcap.com/currencies/bitcoin/h...  \n",
       "1  https://coinmarketcap.com/currencies/ethereum/...  \n",
       "2  https://coinmarketcap.com/currencies/tether/hi...  \n",
       "3  https://coinmarketcap.com/currencies/bnb/histo...  \n",
       "4  https://coinmarketcap.com/currencies/xrp/histo...  "
      ]
     },
     "execution_count": 2,
     "metadata": {},
     "output_type": "execute_result"
    }
   ],
   "source": [
    "data = pd.read_csv('CoinsAndLinks.csv')\n",
    "data.head()"
   ]
  },
  {
   "cell_type": "code",
   "execution_count": 41,
   "metadata": {},
   "outputs": [],
   "source": [
    "options_firefox = webdriver.FirefoxOptions() \n",
    "directory = 'C:\\Mehrshad\\Work\\Projects\\Data Science BootCamp\\Projects\\‌‌Bootcamp First Project\\coinmarketcap_project\\CSV_Files'\n",
    "options_firefox.set_preference('browser.download.folderList' , 2)\n",
    "options_firefox.set_preference('browser.download.manager.showWhenStarting' , False)\n",
    "options_firefox.set_preference('browser.download.dir' , directory)\n",
    "options_firefox.set_preference('browser.helperApps.neverAsk.saveToDisk' , 'application/x-gzip')\n",
    "\n",
    "driver = webdriver.Firefox(options = options_firefox)\n",
    "driver.maximize_window()\n",
    "for i in range(200):\n",
    "    driver.get(data.loc[i , 'HistoricalLink'])\n",
    "    driver.find_element_by_xpath('/html/body/div[1]/div[2]/div[1]/div[2]/div/div/div/div[2]/div/div[1]/div/button[1]').click()\n",
    "    sleep(0.3)\n",
    "    driver.find_element_by_xpath('/html/body/div[1]/div[2]/div[1]/div[2]/div/div/div/div[2]/div/div[1]/div[2]/div/div[1]/div/div/div[1]/div[2]/ul/li[5]').click()\n",
    "    driver.find_element_by_xpath('/html/body/div[1]/div[2]/div[1]/div[2]/div/div/div/div[2]/div/div[1]/div[2]/div/div[1]/div/div/div[2]/span/button').click()\n",
    "    sleep(1)\n",
    "    driver.find_element_by_xpath('/html/body/div[1]/div[2]/div[1]/div[2]/div/div/div/div[2]/div/div[1]/div/button[2]/div[1]/div').click()\n"
   ]
  },
  {
   "cell_type": "code",
   "execution_count": null,
   "metadata": {},
   "outputs": [],
   "source": [
    "    "
   ]
  }
 ],
 "metadata": {
  "kernelspec": {
   "display_name": "base",
   "language": "python",
   "name": "python3"
  },
  "language_info": {
   "codemirror_mode": {
    "name": "ipython",
    "version": 3
   },
   "file_extension": ".py",
   "mimetype": "text/x-python",
   "name": "python",
   "nbconvert_exporter": "python",
   "pygments_lexer": "ipython3",
   "version": "3.11.4"
  },
  "orig_nbformat": 4
 },
 "nbformat": 4,
 "nbformat_minor": 2
}
